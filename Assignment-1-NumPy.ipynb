{
 "cells": [
  {
   "cell_type": "markdown",
   "id": "0798b10b",
   "metadata": {},
   "source": [
    "# Assignment-1: Based on NumPy"
   ]
  },
  {
   "cell_type": "code",
   "execution_count": null,
   "id": "e13056e0",
   "metadata": {},
   "outputs": [],
   "source": [
    "import numpy as np"
   ]
  },
  {
   "cell_type": "markdown",
   "id": "5aff0520",
   "metadata": {},
   "source": [
    "## Q1: Basic NumPy Array"
   ]
  },
  {
   "cell_type": "code",
   "execution_count": null,
   "id": "9163ff97",
   "metadata": {},
   "outputs": [],
   "source": [
    "# (a) Reverse array\n",
    "arr = np.array([1, 2, 3, 6, 4, 5])\n",
    "reversed_arr = arr[::-1]\n",
    "print(reversed_arr)"
   ]
  },
  {
   "cell_type": "code",
   "execution_count": null,
   "id": "52cb4037",
   "metadata": {},
   "outputs": [],
   "source": [
    "# (b) Flatten array\n",
    "array1 = np.array([[1, 2, 3], [2, 4, 5], [1, 2, 3]])\n",
    "flat1 = array1.flatten()\n",
    "flat2 = array1.ravel()\n",
    "print(flat1)\n",
    "print(flat2)"
   ]
  },
  {
   "cell_type": "code",
   "execution_count": null,
   "id": "4431b407",
   "metadata": {},
   "outputs": [],
   "source": [
    "# (c) Compare arrays\n",
    "arr1 = np.array([[1, 2], [3, 4]])\n",
    "arr2 = np.array([[1, 2], [3, 4]])\n",
    "print(np.array_equal(arr1, arr2))"
   ]
  },
  {
   "cell_type": "code",
   "execution_count": null,
   "id": "34c845f4",
   "metadata": {},
   "outputs": [],
   "source": [
    "# (d) Most frequent value and indices\n",
    "x = np.array([1,2,3,4,5,1,2,1,1,1])\n",
    "unique, counts = np.unique(x, return_counts=True)\n",
    "most_freq = unique[np.argmax(counts)]\n",
    "indices_x = np.where(x == most_freq)[0]\n",
    "print(f\"x: Most frequent = {most_freq}, Indices = {indices_x}\")\n",
    "\n",
    "y = np.array([1, 1, 1, 2, 3, 4, 2, 4, 3, 3])\n",
    "unique, counts = np.unique(y, return_counts=True)\n",
    "most_freq = unique[np.argmax(counts)]\n",
    "indices_y = np.where(y == most_freq)[0]\n",
    "print(f\"y: Most frequent = {most_freq}, Indices = {indices_y}\")"
   ]
  },
  {
   "cell_type": "code",
   "execution_count": null,
   "id": "accb2b06",
   "metadata": {},
   "outputs": [],
   "source": [
    "# (e) Matrix sums\n",
    "gfg = np.matrix('[4, 1, 9; 12, 3, 1; 4, 5, 6]')\n",
    "print(\"Sum of all elements:\", gfg.sum())\n",
    "print(\"Row-wise sum:\", gfg.sum(axis=1))\n",
    "print(\"Column-wise sum:\", gfg.sum(axis=0))"
   ]
  },
  {
   "cell_type": "code",
   "execution_count": null,
   "id": "66081c80",
   "metadata": {},
   "outputs": [],
   "source": [
    "# (f) Matrix operations\n",
    "n_array = np.array([[55, 25, 15], [30, 44, 2], [11, 45, 77]])\n",
    "print(\"Sum of diagonal:\", np.trace(n_array))\n",
    "eig_vals, eig_vecs = np.linalg.eig(n_array)\n",
    "print(\"Eigen values:\", eig_vals)\n",
    "print(\"Eigen vectors:\\n\", eig_vecs)\n",
    "print(\"Inverse:\\n\", np.linalg.inv(n_array))\n",
    "print(\"Determinant:\", np.linalg.det(n_array))"
   ]
  },
  {
   "cell_type": "code",
   "execution_count": null,
   "id": "1be75512",
   "metadata": {},
   "outputs": [],
   "source": [
    "# (g) Matrix multiplication and covariance (fixed)\n",
    "p1 = np.array([[1, 2], [2, 3]])\n",
    "q1 = np.array([[4, 5], [6, 7]])\n",
    "print(\"Product 1:\\n\", np.dot(p1, q1))\n",
    "print(\"Covariance 1:\\n\", np.cov(p1.flatten(), q1.flatten()))\n",
    "\n",
    "p2 = np.array([[1, 2], [2, 3], [4, 5]])\n",
    "q2 = np.array([[4, 5, 1], [6, 7, 2]])\n",
    "product2 = np.dot(p2, q2)\n",
    "print(\"Product 2:\\n\", product2)\n",
    "min_len = min(len(p2.flatten()), len(q2.flatten()))\n",
    "print(\"Covariance 2:\\n\", np.cov(p2.flatten()[:min_len], q2.flatten()[:min_len]))"
   ]
  },
  {
   "cell_type": "code",
   "execution_count": null,
   "id": "a0be9403",
   "metadata": {},
   "outputs": [],
   "source": [
    "# (h) Inner, outer, cartesian product\n",
    "from itertools import product\n",
    "x = np.array([[2, 3, 4], [3, 2, 9]])\n",
    "y = np.array([[1, 5, 0], [5, 10, 3]])\n",
    "print(\"Inner:\\n\", np.inner(x, y))\n",
    "print(\"Outer:\\n\", np.outer(x, y))\n",
    "print(\"Cartesian:\\n\", np.array(list(product(x.flatten(), y.flatten()))))"
   ]
  },
  {
   "cell_type": "markdown",
   "id": "d284b05d",
   "metadata": {},
   "source": [
    "## Q2: NumPy Math and Stats"
   ]
  },
  {
   "cell_type": "code",
   "execution_count": null,
   "id": "e34fe11d",
   "metadata": {},
   "outputs": [],
   "source": [
    "array = np.array([[1, -2, 3],[-4, 5, -6]])\n",
    "abs_val = np.abs(array)\n",
    "print(\"Absolute:\\n\", abs_val)\n",
    "print(\"Flattened Percentiles:\", np.percentile(array.flatten(), [25, 50, 75]))\n",
    "print(\"Column Percentiles:\\n\", np.percentile(array, [25, 50, 75], axis=0))\n",
    "print(\"Row Percentiles:\\n\", np.percentile(array, [25, 50, 75], axis=1))\n",
    "print(\"Mean:\", [np.mean(array.flatten()), np.mean(array, axis=0), np.mean(array, axis=1)])\n",
    "print(\"Median:\", [np.median(array.flatten()), np.median(array, axis=0), np.median(array, axis=1)])\n",
    "print(\"Std Dev:\", [np.std(array.flatten()), np.std(array, axis=0), np.std(array, axis=1)])"
   ]
  },
  {
   "cell_type": "code",
   "execution_count": null,
   "id": "25dea2e1",
   "metadata": {},
   "outputs": [],
   "source": [
    "a = np.array([-1.8, -1.6, -0.5, 0.5,1.6, 1.8, 3.0])\n",
    "print(\"Floor:\", np.floor(a))\n",
    "print(\"Ceil:\", np.ceil(a))\n",
    "print(\"Trunc:\", np.trunc(a))\n",
    "print(\"Round:\", np.round(a))"
   ]
  },
  {
   "cell_type": "markdown",
   "id": "cc407542",
   "metadata": {},
   "source": [
    "## Q3: Searching and Sorting"
   ]
  },
  {
   "cell_type": "code",
   "execution_count": null,
   "id": "f38ac5bf",
   "metadata": {},
   "outputs": [],
   "source": [
    "array = np.array([10, 52, 62, 16, 16, 54, 453])\n",
    "print(\"Sorted:\", np.sort(array))\n",
    "print(\"Sorted Indices:\", np.argsort(array))\n",
    "print(\"4 Smallest:\", np.sort(array)[:4])\n",
    "print(\"5 Largest:\", np.sort(array)[-5:])"
   ]
  },
  {
   "cell_type": "code",
   "execution_count": null,
   "id": "924ef728",
   "metadata": {},
   "outputs": [],
   "source": [
    "array = np.array([1.0, 1.2, 2.2, 2.0, 3.0, 2.0])\n",
    "print(\"Integers only:\", array[array == array.astype(int)])\n",
    "print(\"Floats only:\", array[array != array.astype(int)])"
   ]
  },
  {
   "cell_type": "markdown",
   "id": "007f02f5",
   "metadata": {},
   "source": [
    "## Q4: Image I/O"
   ]
  },
  {
   "cell_type": "code",
   "execution_count": null,
   "id": "26784127",
   "metadata": {},
   "outputs": [],
   "source": [
    "from PIL import Image\n",
    "\n",
    "def img_to_array(path):\n",
    "    img = Image.open(path)\n",
    "    img_array = np.array(img)\n",
    "    if img.mode == 'RGB':\n",
    "        np.savetxt(\"rgb_image.txt\", img_array.reshape(-1, 3), fmt='%d')\n",
    "    elif img.mode == 'L':\n",
    "        np.savetxt(\"gray_image.txt\", img_array, fmt='%d')\n",
    "    else:\n",
    "        raise ValueError(\"Unsupported image mode\")\n",
    "    print(\"Saved successfully!\")"
   ]
  },
  {
   "cell_type": "code",
   "execution_count": null,
   "id": "5c6807d3",
   "metadata": {},
   "outputs": [],
   "source": [
    "# Load grayscale or RGB text file\n",
    "gray_loaded = np.loadtxt(\"gray_image.txt\", dtype=int)\n",
    "rgb_loaded = np.loadtxt(\"rgb_image.txt\", dtype=int).reshape(-1, 3)"
   ]
  }
 ],
 "metadata": {},
 "nbformat": 4,
 "nbformat_minor": 5
}
