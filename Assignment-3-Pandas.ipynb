{
 "cells": [
  {
   "cell_type": "markdown",
   "id": "ae858c44",
   "metadata": {},
   "source": [
    "# Assignment-3: Based on Pandas"
   ]
  },
  {
   "cell_type": "code",
   "execution_count": null,
   "id": "e8c9488f",
   "metadata": {},
   "outputs": [],
   "source": [
    "import pandas as pd"
   ]
  },
  {
   "cell_type": "markdown",
   "id": "c1a76fa7",
   "metadata": {},
   "source": [
    "## Q1: Create Dataset"
   ]
  },
  {
   "cell_type": "code",
   "execution_count": null,
   "id": "98cced35",
   "metadata": {},
   "outputs": [],
   "source": [
    "data = {\n",
    "    'Name': ['John', 'Jane', 'Alice', 'Bob', 'Charlie', 'Diana', 'Edward', 'Frank', 'Grace'],\n",
    "    'Age': [23, 25, 30, 22, 28, 26, 32, 29, 24],\n",
    "    'City': ['NY', 'LA', 'Chicago', 'Houston', 'Phoenix', 'Dallas', 'Austin', 'Seattle', 'Denver'],\n",
    "    'Marks': [87, 92, 79, 85, 90, 88, 75, 80, 95]\n",
    "}\n",
    "df = pd.DataFrame(data)\n",
    "print(df)"
   ]
  },
  {
   "cell_type": "markdown",
   "id": "77795e65",
   "metadata": {},
   "source": [
    "## Q2: Locate rows 0, 4, 7 and 8"
   ]
  },
  {
   "cell_type": "code",
   "execution_count": null,
   "id": "07f76bea",
   "metadata": {},
   "outputs": [],
   "source": [
    "print(df.loc[[0, 4, 7, 8]])"
   ]
  },
  {
   "cell_type": "markdown",
   "id": "76773a85",
   "metadata": {},
   "source": [
    "## Q3: Navigate the DataFrame"
   ]
  },
  {
   "cell_type": "code",
   "execution_count": null,
   "id": "99112a68",
   "metadata": {},
   "outputs": [],
   "source": [
    "# 1. Row index 3 to 7\n",
    "print(df.iloc[3:8])"
   ]
  },
  {
   "cell_type": "code",
   "execution_count": null,
   "id": "b8fffa4a",
   "metadata": {},
   "outputs": [],
   "source": [
    "# 2. Row index 4 to 8, column 2 to 4\n",
    "print(df.iloc[4:9, 2:5])"
   ]
  },
  {
   "cell_type": "code",
   "execution_count": null,
   "id": "02944bce",
   "metadata": {},
   "outputs": [],
   "source": [
    "# 3. All rows, column index 1 to 3\n",
    "print(df.iloc[:, 1:4])"
   ]
  },
  {
   "cell_type": "markdown",
   "id": "4f954ffa",
   "metadata": {},
   "source": [
    "## Q4: Read CSV and display first five rows"
   ]
  },
  {
   "cell_type": "code",
   "execution_count": null,
   "id": "445b1eca",
   "metadata": {},
   "outputs": [],
   "source": [
    "iris_df = pd.read_csv('Iris.csv')  # Ensure Iris.csv is in the same directory\n",
    "print(iris_df.head())"
   ]
  },
  {
   "cell_type": "markdown",
   "id": "369c485f",
   "metadata": {},
   "source": [
    "## Q5: Delete row 4 and column 3"
   ]
  },
  {
   "cell_type": "code",
   "execution_count": null,
   "id": "811db203",
   "metadata": {},
   "outputs": [],
   "source": [
    "iris_modified = iris_df.drop(index=4).drop(iris_df.columns[3], axis=1)\n",
    "print(iris_modified.head())"
   ]
  },
  {
   "cell_type": "markdown",
   "id": "cd594547",
   "metadata": {},
   "source": [
    "## Q6: Create employee dataset and perform operations"
   ]
  },
  {
   "cell_type": "code",
   "execution_count": null,
   "id": "623c6387",
   "metadata": {},
   "outputs": [],
   "source": [
    "emp_data = {\n",
    "    'Employee_ID': [101, 102, 103, 104, 105],\n",
    "    'Name': ['Alice', 'Bob', 'Charlie', 'Diana', 'Edward'],\n",
    "    'Department': ['HR', 'IT', 'IT', 'Marketing', 'Sales'],\n",
    "    'Age': [29, 34, 41, 28, 38],\n",
    "    'Salary': [50000, 70000, 65000, 55000, 60000],\n",
    "    'Years_of_Experience': [4, 8, 10, 3, 12],\n",
    "    'Joining_Date': ['2020-03-15', '2017-07-19', '2013-06-01', '2021-02-10', '2010-11-25'],\n",
    "    'Gender': ['Female', 'Male', 'Male', 'Female', 'Male'],\n",
    "    'Bonus': [5000, 7000, 6000, 4500, 5000],\n",
    "    'Rating': [4.5, 4.0, 3.8, 4.7, 3.5]\n",
    "}\n",
    "emp_df = pd.DataFrame(emp_data)\n",
    "emp_df['Joining_Date'] = pd.to_datetime(emp_df['Joining_Date'])\n",
    "emp_df.to_csv('employees.csv', index=False)\n",
    "emp_df.head()"
   ]
  },
  {
   "cell_type": "code",
   "execution_count": null,
   "id": "03780431",
   "metadata": {},
   "outputs": [],
   "source": [
    "# a) Shape\n",
    "print(emp_df.shape)"
   ]
  },
  {
   "cell_type": "code",
   "execution_count": null,
   "id": "8a73fc1c",
   "metadata": {},
   "outputs": [],
   "source": [
    "# b) Info\n",
    "print(emp_df.info())"
   ]
  },
  {
   "cell_type": "code",
   "execution_count": null,
   "id": "7427fed1",
   "metadata": {},
   "outputs": [],
   "source": [
    "# c) Descriptive stats\n",
    "print(emp_df.describe(include='all'))"
   ]
  },
  {
   "cell_type": "code",
   "execution_count": null,
   "id": "6f3c1f2b",
   "metadata": {},
   "outputs": [],
   "source": [
    "# d) Head and Tail\n",
    "print(emp_df.head())\n",
    "print(emp_df.tail(3))"
   ]
  },
  {
   "cell_type": "code",
   "execution_count": null,
   "id": "81edce66",
   "metadata": {},
   "outputs": [],
   "source": [
    "# e) Stats\n",
    "print(\"Average Salary:\", emp_df['Salary'].mean())\n",
    "print(\"Total Bonus:\", emp_df['Bonus'].sum())\n",
    "print(\"Youngest Age:\", emp_df['Age'].min())\n",
    "print(\"Highest Rating:\", emp_df['Rating'].max())"
   ]
  },
  {
   "cell_type": "code",
   "execution_count": null,
   "id": "c18f8f50",
   "metadata": {},
   "outputs": [],
   "source": [
    "# f) Sort by Salary\n",
    "print(emp_df.sort_values(by='Salary', ascending=False))"
   ]
  },
  {
   "cell_type": "code",
   "execution_count": null,
   "id": "f09ae29b",
   "metadata": {},
   "outputs": [],
   "source": [
    "# g) Add Performance column\n",
    "def performance_category(rating):\n",
    "    if rating >= 4.5:\n",
    "        return \"Excellent\"\n",
    "    elif rating >= 4.0:\n",
    "        return \"Good\"\n",
    "    else:\n",
    "        return \"Average\"\n",
    "\n",
    "emp_df['Performance'] = emp_df['Rating'].apply(performance_category)\n",
    "emp_df"
   ]
  },
  {
   "cell_type": "code",
   "execution_count": null,
   "id": "2152c7e7",
   "metadata": {},
   "outputs": [],
   "source": [
    "# h) Missing values\n",
    "print(emp_df.isnull().sum())"
   ]
  },
  {
   "cell_type": "code",
   "execution_count": null,
   "id": "ae648de3",
   "metadata": {},
   "outputs": [],
   "source": [
    "# i) Rename column\n",
    "emp_df.rename(columns={'Employee_ID': 'ID'}, inplace=True)"
   ]
  },
  {
   "cell_type": "code",
   "execution_count": null,
   "id": "433e9b2b",
   "metadata": {},
   "outputs": [],
   "source": [
    "# j) Filters\n",
    "print(emp_df[emp_df['Years_of_Experience'] > 5])\n",
    "print(emp_df[emp_df['Department'] == 'IT'])"
   ]
  },
  {
   "cell_type": "code",
   "execution_count": null,
   "id": "e6f21d11",
   "metadata": {},
   "outputs": [],
   "source": [
    "# k) Add Tax column\n",
    "emp_df['Tax'] = emp_df['Salary'] * 0.10"
   ]
  },
  {
   "cell_type": "code",
   "execution_count": null,
   "id": "64992d6e",
   "metadata": {},
   "outputs": [],
   "source": [
    "# l) Save to new CSV\n",
    "emp_df.to_csv('employees_modified.csv', index=False)"
   ]
  }
 ],
 "metadata": {},
 "nbformat": 4,
 "nbformat_minor": 5
}
